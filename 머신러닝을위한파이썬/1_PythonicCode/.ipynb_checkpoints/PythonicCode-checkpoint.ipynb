{
 "cells": [
  {
   "cell_type": "code",
   "execution_count": 1,
   "metadata": {},
   "outputs": [
    {
     "name": "stdout",
     "output_type": "stream",
     "text": [
      "redbluegreenyellow\n"
     ]
    }
   ],
   "source": [
    "# No Pythonic Code\n",
    "\n",
    "colors = ['red', 'blue', 'green', 'yellow']\n",
    "result = ''\n",
    "for s in colors:\n",
    "    result += s\n",
    "print(result)"
   ]
  },
  {
   "cell_type": "code",
   "execution_count": 2,
   "metadata": {},
   "outputs": [
    {
     "data": {
      "text/plain": [
       "'redbluegreenyellow'"
      ]
     },
     "execution_count": 2,
     "metadata": {},
     "output_type": "execute_result"
    }
   ],
   "source": [
    "# Pythonic Code\n",
    "\n",
    "colors = ['red', 'blue', 'green', 'yellow']\n",
    "result = ''.join(colors)\n",
    "result"
   ]
  },
  {
   "cell_type": "code",
   "execution_count": 3,
   "metadata": {},
   "outputs": [
    {
     "name": "stdout",
     "output_type": "stream",
     "text": [
      "['zero', 'one', 'two', 'three']\n"
     ]
    }
   ],
   "source": [
    "# Split 함수\n",
    "# String Type의 값을 나눠서 List 형태로 변환\n",
    "items = 'zero one two three'.split() # 빈칸을 기준으로 문자열 나누기\n",
    "print(items)"
   ]
  },
  {
   "cell_type": "code",
   "execution_count": 4,
   "metadata": {},
   "outputs": [
    {
     "data": {
      "text/plain": [
       "['python', 'jquery', 'javascript']"
      ]
     },
     "execution_count": 4,
     "metadata": {},
     "output_type": "execute_result"
    }
   ],
   "source": [
    "example = 'python,jquery,javascript' # ','을 기준으로 문자열 나누기\n",
    "example.split(',')"
   ]
  },
  {
   "cell_type": "code",
   "execution_count": 5,
   "metadata": {},
   "outputs": [],
   "source": [
    "a, b, c = example.split(',') # 리스트에 있는 각 값을 a, b, c 변수로 unpacking"
   ]
  },
  {
   "cell_type": "code",
   "execution_count": 6,
   "metadata": {},
   "outputs": [
    {
     "name": "stdout",
     "output_type": "stream",
     "text": [
      "python\n",
      "jquery\n",
      "javascript\n"
     ]
    }
   ],
   "source": [
    "print(a)\n",
    "print(b)\n",
    "print(c)"
   ]
  },
  {
   "cell_type": "code",
   "execution_count": 7,
   "metadata": {},
   "outputs": [],
   "source": [
    "example = 'cs50.gachon.edu'\n",
    "subdomain, domain, tld = example.split('.')\n",
    "# '.''을 기준으로 문자열 나누기 -> Unpacking"
   ]
  },
  {
   "cell_type": "code",
   "execution_count": 8,
   "metadata": {},
   "outputs": [
    {
     "name": "stdout",
     "output_type": "stream",
     "text": [
      "cs50\n",
      "gachon\n",
      "edu\n"
     ]
    }
   ],
   "source": [
    "print(subdomain)\n",
    "print(domain)\n",
    "print(tld)"
   ]
  },
  {
   "cell_type": "code",
   "execution_count": 9,
   "metadata": {},
   "outputs": [
    {
     "data": {
      "text/plain": [
       "'redbluegreenyellow'"
      ]
     },
     "execution_count": 9,
     "metadata": {},
     "output_type": "execute_result"
    }
   ],
   "source": [
    "# Join 함수\n",
    "# String List를 합쳐 하나의 String으로 반환할 때 사용\n",
    "colors = ['red', 'blue', 'green', 'yellow']\n",
    "result = ''.join(colors)\n",
    "result"
   ]
  },
  {
   "cell_type": "code",
   "execution_count": 10,
   "metadata": {},
   "outputs": [
    {
     "data": {
      "text/plain": [
       "'red blue green yellow'"
      ]
     },
     "execution_count": 10,
     "metadata": {},
     "output_type": "execute_result"
    }
   ],
   "source": [
    "result = ' '.join(colors) # 연결 시 빈칸 1칸으로 연결\n",
    "result"
   ]
  },
  {
   "cell_type": "code",
   "execution_count": 11,
   "metadata": {},
   "outputs": [
    {
     "data": {
      "text/plain": [
       "'red, blue, green, yellow'"
      ]
     },
     "execution_count": 11,
     "metadata": {},
     "output_type": "execute_result"
    }
   ],
   "source": [
    "result = ', '.join(colors) # 연결 시 ', '으로 연결\n",
    "result"
   ]
  },
  {
   "cell_type": "code",
   "execution_count": 12,
   "metadata": {},
   "outputs": [
    {
     "data": {
      "text/plain": [
       "'red-blue-green-yellow'"
      ]
     },
     "execution_count": 12,
     "metadata": {},
     "output_type": "execute_result"
    }
   ],
   "source": [
    "result = '-'.join(colors) # 연결 시 '-'으로 연결\n",
    "result"
   ]
  },
  {
   "cell_type": "markdown",
   "metadata": {},
   "source": [
    "# List comprehensions\n",
    "\n",
    "기존 List를 사용하여 간단히 다른 List를 만드는 기법\n",
    "\n",
    "포괄적인 List, 포함되는 리스트라는 의미로 사용됨\n",
    "\n",
    "파이썬에서 가장 많이 사용되는 기법 중 하나\n",
    "\n",
    "일반적으로 for + append 보다 속도가 빠름"
   ]
  },
  {
   "cell_type": "code",
   "execution_count": 13,
   "metadata": {},
   "outputs": [
    {
     "name": "stdout",
     "output_type": "stream",
     "text": [
      "[0, 1, 2, 3, 4, 5, 6, 7, 8, 9]\n"
     ]
    }
   ],
   "source": [
    "result = []\n",
    "for i in range(10):\n",
    "    result.append(i)\n",
    "print(result)"
   ]
  },
  {
   "cell_type": "code",
   "execution_count": 14,
   "metadata": {},
   "outputs": [
    {
     "data": {
      "text/plain": [
       "[0, 1, 2, 3, 4, 5, 6, 7, 8, 9]"
      ]
     },
     "execution_count": 14,
     "metadata": {},
     "output_type": "execute_result"
    }
   ],
   "source": [
    "result = [i for i in range(10)]\n",
    "result"
   ]
  },
  {
   "cell_type": "code",
   "execution_count": 15,
   "metadata": {},
   "outputs": [
    {
     "data": {
      "text/plain": [
       "[0, 2, 4, 6, 8]"
      ]
     },
     "execution_count": 15,
     "metadata": {},
     "output_type": "execute_result"
    }
   ],
   "source": [
    "result = [i for i in range(10) if i % 2 ==0]\n",
    "result"
   ]
  },
  {
   "cell_type": "code",
   "execution_count": 16,
   "metadata": {},
   "outputs": [
    {
     "data": {
      "text/plain": [
       "['HW',\n",
       " 'Ho',\n",
       " 'Hr',\n",
       " 'Hl',\n",
       " 'Hd',\n",
       " 'eW',\n",
       " 'eo',\n",
       " 'er',\n",
       " 'el',\n",
       " 'ed',\n",
       " 'lW',\n",
       " 'lo',\n",
       " 'lr',\n",
       " 'll',\n",
       " 'ld',\n",
       " 'lW',\n",
       " 'lo',\n",
       " 'lr',\n",
       " 'll',\n",
       " 'ld',\n",
       " 'oW',\n",
       " 'oo',\n",
       " 'or',\n",
       " 'ol',\n",
       " 'od']"
      ]
     },
     "execution_count": 16,
     "metadata": {},
     "output_type": "execute_result"
    }
   ],
   "source": [
    "word_1 = 'Hello'\n",
    "word_2 = 'World'\n",
    "result = [i+j for i in word_1 for j in word_2]\n",
    "result"
   ]
  },
  {
   "cell_type": "code",
   "execution_count": 17,
   "metadata": {},
   "outputs": [
    {
     "data": {
      "text/plain": [
       "['AD', 'AE', 'AA', 'BD', 'BE', 'BA', 'CD', 'CE', 'CA']"
      ]
     },
     "execution_count": 17,
     "metadata": {},
     "output_type": "execute_result"
    }
   ],
   "source": [
    "case_1 = ['A', 'B', 'C']\n",
    "case_2 = ['D', 'E', 'A']\n",
    "result = [i+j for i in case_1 for j in case_2]\n",
    "result"
   ]
  },
  {
   "cell_type": "code",
   "execution_count": 18,
   "metadata": {},
   "outputs": [
    {
     "data": {
      "text/plain": [
       "['AD', 'AE', 'BD', 'BE', 'BA', 'CD', 'CE', 'CA']"
      ]
     },
     "execution_count": 18,
     "metadata": {},
     "output_type": "execute_result"
    }
   ],
   "source": [
    "result = [i+j for i in case_1 for j in case_2 if not(i==j)]\n",
    "result"
   ]
  },
  {
   "cell_type": "code",
   "execution_count": 19,
   "metadata": {},
   "outputs": [
    {
     "data": {
      "text/plain": [
       "['AD', 'AE', 'BA', 'BD', 'BE', 'CA', 'CD', 'CE']"
      ]
     },
     "execution_count": 19,
     "metadata": {},
     "output_type": "execute_result"
    }
   ],
   "source": [
    "result.sort()\n",
    "result"
   ]
  },
  {
   "cell_type": "code",
   "execution_count": 20,
   "metadata": {},
   "outputs": [
    {
     "name": "stdout",
     "output_type": "stream",
     "text": [
      "['The', 'quick', 'brown', 'fox', 'jumps', 'over', 'the', 'lazy', 'dog']\n"
     ]
    }
   ],
   "source": [
    "words = 'The quick brown fox jumps over the lazy dog'.split()\n",
    "# 문장을 빈칸 기준으로 나눠 List로 변환\n",
    "print(words)"
   ]
  },
  {
   "cell_type": "code",
   "execution_count": 21,
   "metadata": {},
   "outputs": [
    {
     "name": "stdout",
     "output_type": "stream",
     "text": [
      "['THE', 'the', 3]\n",
      "['QUICK', 'quick', 5]\n",
      "['BROWN', 'brown', 5]\n",
      "['FOX', 'fox', 3]\n",
      "['JUMPS', 'jumps', 5]\n",
      "['OVER', 'over', 4]\n",
      "['THE', 'the', 3]\n",
      "['LAZY', 'lazy', 4]\n",
      "['DOG', 'dog', 3]\n"
     ]
    }
   ],
   "source": [
    "stuff = [[w.upper(), w.lower(), len(w)] for w in words]\n",
    "for i in stuff:\n",
    "    print(i)"
   ]
  },
  {
   "cell_type": "code",
   "execution_count": 22,
   "metadata": {},
   "outputs": [
    {
     "name": "stdout",
     "output_type": "stream",
     "text": [
      "0 tic\n",
      "1 tac\n",
      "2 toe\n"
     ]
    }
   ],
   "source": [
    "# Enumerate\n",
    "# List의 element를 추출할 때 번호를 붙여서 추출\n",
    "for i, v in enumerate(['tic', 'tac', 'toe']):\n",
    "    #list에 있는 index와 값을 unpacking\n",
    "    print(i, v)"
   ]
  },
  {
   "cell_type": "code",
   "execution_count": 23,
   "metadata": {},
   "outputs": [
    {
     "data": {
      "text/plain": [
       "[(0, 'a'), (1, 'b'), (2, 'c'), (3, 'd')]"
      ]
     },
     "execution_count": 23,
     "metadata": {},
     "output_type": "execute_result"
    }
   ],
   "source": [
    "mylist = ['a', 'b', 'c', 'd']\n",
    "list(enumerate(mylist)) # list에 있는 index와 값을 unpacking하여 list로 저장"
   ]
  },
  {
   "cell_type": "code",
   "execution_count": 24,
   "metadata": {},
   "outputs": [
    {
     "data": {
      "text/plain": [
       "{0: 'Gachon',\n",
       " 1: 'University',\n",
       " 2: 'is',\n",
       " 3: 'an',\n",
       " 4: 'academic',\n",
       " 5: 'institute',\n",
       " 6: 'located',\n",
       " 7: 'in',\n",
       " 8: 'South',\n",
       " 9: 'Korea.'}"
      ]
     },
     "execution_count": 24,
     "metadata": {},
     "output_type": "execute_result"
    }
   ],
   "source": [
    "{i:j for i,j in enumerate('Gachon University is an academic institute located in South Korea.'.split())}\n",
    "# 문장을 list로 만들고, list의 index와 값을 unpacking하여 dict로 저장"
   ]
  },
  {
   "cell_type": "code",
   "execution_count": 25,
   "metadata": {},
   "outputs": [
    {
     "name": "stdout",
     "output_type": "stream",
     "text": [
      "a1 b1\n",
      "a2 b2\n",
      "a3 b3\n"
     ]
    }
   ],
   "source": [
    "# zip\n",
    "# 두 개의 list의 값을 병렬적으로 추출함\n",
    "alist = ['a1', 'a2', 'a3']\n",
    "blist = ['b1', 'b2', 'b3']\n",
    "for a, b in zip(alist, blist): # 병렬적으로 값을 추출\n",
    "    print(a, b)"
   ]
  },
  {
   "cell_type": "code",
   "execution_count": 26,
   "metadata": {},
   "outputs": [
    {
     "name": "stdout",
     "output_type": "stream",
     "text": [
      "(1, 10, 100)\n",
      "(2, 20, 200)\n",
      "(3, 30, 300)\n"
     ]
    }
   ],
   "source": [
    "a, b, c = zip((1,2,3), (10,20,30), (100,200,300)) # 각 tuple의 같은 index 끼리 묶음\n",
    "print(a)\n",
    "print(b)\n",
    "print(c)"
   ]
  },
  {
   "cell_type": "code",
   "execution_count": 27,
   "metadata": {},
   "outputs": [
    {
     "data": {
      "text/plain": [
       "[111, 222, 333]"
      ]
     },
     "execution_count": 27,
     "metadata": {},
     "output_type": "execute_result"
    }
   ],
   "source": [
    "[sum(x) for x in zip((1,2,3), (10,20,30), (100,200,300))]\n",
    "# 각 Tuple의 같은 index를 묶어 합을 list로 변환"
   ]
  },
  {
   "cell_type": "code",
   "execution_count": 28,
   "metadata": {},
   "outputs": [
    {
     "name": "stdout",
     "output_type": "stream",
     "text": [
      "0 a1 b1\n",
      "1 a2 b2\n",
      "2 a3 b3\n"
     ]
    }
   ],
   "source": [
    "alist = ['a1', 'a2', 'a3']\n",
    "blist = ['b1', 'b2', 'b3']\n",
    "for i, (a, b) in enumerate(zip(alist, blist)):\n",
    "    print(i, a, b) # index alist[index] blist[index] 표시"
   ]
  },
  {
   "cell_type": "code",
   "execution_count": 29,
   "metadata": {},
   "outputs": [
    {
     "name": "stdout",
     "output_type": "stream",
     "text": [
      "5\n"
     ]
    }
   ],
   "source": [
    "# Lambda\n",
    "# 함수 이름 없이, 함수처럼 쓸 수 있는 익명함수\n",
    "# 수학의 람다 대수에서 유래함\n",
    "def f(x, y):\n",
    "    return x + y\n",
    "\n",
    "print(f(1, 4))"
   ]
  },
  {
   "cell_type": "code",
   "execution_count": 30,
   "metadata": {},
   "outputs": [
    {
     "name": "stdout",
     "output_type": "stream",
     "text": [
      "5\n"
     ]
    }
   ],
   "source": [
    "f = lambda x, y: x+y\n",
    "print(f(1,4))"
   ]
  },
  {
   "cell_type": "code",
   "execution_count": 31,
   "metadata": {},
   "outputs": [
    {
     "name": "stdout",
     "output_type": "stream",
     "text": [
      "9\n"
     ]
    }
   ],
   "source": [
    "f = lambda x: x**2\n",
    "print(f(3))"
   ]
  },
  {
   "cell_type": "code",
   "execution_count": 32,
   "metadata": {},
   "outputs": [
    {
     "name": "stdout",
     "output_type": "stream",
     "text": [
      "1.5\n"
     ]
    }
   ],
   "source": [
    "f = lambda x: x/2\n",
    "print(f(3))"
   ]
  },
  {
   "cell_type": "code",
   "execution_count": 33,
   "metadata": {},
   "outputs": [
    {
     "name": "stdout",
     "output_type": "stream",
     "text": [
      "6\n"
     ]
    }
   ],
   "source": [
    "print((lambda x: x+1)(5))"
   ]
  },
  {
   "cell_type": "code",
   "execution_count": 34,
   "metadata": {},
   "outputs": [
    {
     "name": "stdout",
     "output_type": "stream",
     "text": [
      "[1, 4, 9, 16, 25]\n"
     ]
    }
   ],
   "source": [
    "# Map function\n",
    "# Sequence 자료형의 각 element에 동일한 function을 적용함\n",
    "ex = [1,2,3,4,5]\n",
    "f = lambda x: x**2\n",
    "print(list(map(f,ex)))"
   ]
  },
  {
   "cell_type": "code",
   "execution_count": 35,
   "metadata": {},
   "outputs": [
    {
     "name": "stdout",
     "output_type": "stream",
     "text": [
      "[2, 4, 6, 8, 10]\n"
     ]
    }
   ],
   "source": [
    "f = lambda x,y: x+y\n",
    "print(list(map(f,ex,ex)))"
   ]
  },
  {
   "cell_type": "code",
   "execution_count": 36,
   "metadata": {},
   "outputs": [
    {
     "name": "stdout",
     "output_type": "stream",
     "text": [
      "15\n"
     ]
    }
   ],
   "source": [
    "# Reduce function\n",
    "# map function과 달리 list에 똑같은 함수를 적용해서 통합\n",
    "from functools import reduce\n",
    "print(reduce(lambda x,y:x+y, [1,2,3,4,5]))"
   ]
  },
  {
   "cell_type": "markdown",
   "metadata": {},
   "source": [
    "# Summary\n",
    "\n",
    "Lambda, map, reduce는 간단한 코드로 다양한 기능을 제공\n",
    "\n",
    "그러나 코드의 직관성이 떨어져서 lambda나 reduce는 python3에서 사용을 권장하지 않음\n",
    "\n",
    "Legacy library나 다양한 머신러닝 코드에서 여전히 사용중"
   ]
  },
  {
   "cell_type": "code",
   "execution_count": 37,
   "metadata": {},
   "outputs": [
    {
     "name": "stdout",
     "output_type": "stream",
     "text": [
      "1 (2, 3, 4, 5, 6)\n",
      "<class 'tuple'>\n"
     ]
    }
   ],
   "source": [
    "# Asterisk\n",
    "# 흔히 알고 있는 *를 의미함\n",
    "# 단순 곱셈, 제곱연산, 가변 인자 활용 등 다양하게 사용됨\n",
    "def asterisk_test(a, *args):\n",
    "    print(a, args)\n",
    "    print(type(args))\n",
    "\n",
    "asterisk_test(1,2,3,4,5,6)"
   ]
  },
  {
   "cell_type": "code",
   "execution_count": 38,
   "metadata": {},
   "outputs": [
    {
     "name": "stdout",
     "output_type": "stream",
     "text": [
      "1 {'b': 2, 'c': 3, 'd': 4, 'e': 5, 'f': 6}\n",
      "<class 'dict'>\n"
     ]
    }
   ],
   "source": [
    "def asterisk_test(a, **kargs):\n",
    "    print(a, kargs)\n",
    "    print(type(kargs))\n",
    "    \n",
    "asterisk_test(1, b=2, c=3, d=4, e=5, f=6)"
   ]
  },
  {
   "cell_type": "code",
   "execution_count": 39,
   "metadata": {},
   "outputs": [
    {
     "name": "stdout",
     "output_type": "stream",
     "text": [
      "1 (2, 3, 4, 5, 6)\n",
      "<class 'tuple'>\n"
     ]
    }
   ],
   "source": [
    "# Asterisk - unpacking a container\n",
    "# tuple, dict 등 자료형에 들어가 있는 값을 unpacking\n",
    "# 함수의 입력값, zip 등에 유용하게 사용가능\n",
    "def asterisk_test(a, *args):\n",
    "    print(a, args)\n",
    "    print(type(args))\n",
    "    \n",
    "asterisk_test(1, *(2,3,4,5,6))"
   ]
  },
  {
   "cell_type": "code",
   "execution_count": 40,
   "metadata": {},
   "outputs": [
    {
     "name": "stdout",
     "output_type": "stream",
     "text": [
      "1 2 3 4 5 6\n",
      "<class 'tuple'>\n"
     ]
    }
   ],
   "source": [
    "def asterisk_test(a, args):\n",
    "    print(a, *args)\n",
    "    print(type(args))\n",
    "    \n",
    "asterisk_test(1, (2,3,4,5,6))"
   ]
  },
  {
   "cell_type": "code",
   "execution_count": 41,
   "metadata": {},
   "outputs": [
    {
     "name": "stdout",
     "output_type": "stream",
     "text": [
      "[1, 2] [3, 4] [5, 6]\n"
     ]
    }
   ],
   "source": [
    "# Asterisk - unpacking a container\n",
    "a, b, c = ([1, 2], [3, 4], [5, 6])\n",
    "print(a, b, c)"
   ]
  },
  {
   "cell_type": "code",
   "execution_count": 42,
   "metadata": {},
   "outputs": [
    {
     "name": "stdout",
     "output_type": "stream",
     "text": [
      "[1, 2] [3, 4] [5, 6]\n"
     ]
    }
   ],
   "source": [
    "data = ([1,2], [3,4],[5,6])\n",
    "print(*data)"
   ]
  },
  {
   "cell_type": "code",
   "execution_count": 43,
   "metadata": {},
   "outputs": [
    {
     "name": "stdout",
     "output_type": "stream",
     "text": [
      "10 1 2 3\n"
     ]
    }
   ],
   "source": [
    "def asterisk_test(a, b, c, d):\n",
    "    print(a,b,c,d)\n",
    "\n",
    "data = {'b':1, 'c':2, 'd':3}\n",
    "asterisk_test(10, **data)"
   ]
  },
  {
   "cell_type": "code",
   "execution_count": 44,
   "metadata": {},
   "outputs": [
    {
     "name": "stdout",
     "output_type": "stream",
     "text": [
      "(1, 3, 5)\n",
      "(2, 4, 6)\n"
     ]
    }
   ],
   "source": [
    "for data in zip(*([1,2],[3,4],[5,6])):\n",
    "    print(data)"
   ]
  },
  {
   "cell_type": "markdown",
   "metadata": {},
   "source": [
    "# Collections\n",
    "\n",
    "List, Tuple, Dict에 대한 Python Built-in 확장 자료 구조(모듈)\n",
    "\n",
    "편의성, 실행 효율 등을 사용자에게 제공함\n",
    "\n",
    "아래의 모듈이 존재함\n",
    "\n",
    "deque, Counter, OrderedDict, defaultdict, namedtuple"
   ]
  },
  {
   "cell_type": "code",
   "execution_count": 45,
   "metadata": {},
   "outputs": [
    {
     "name": "stdout",
     "output_type": "stream",
     "text": [
      "deque([0, 1, 2, 3, 4])\n"
     ]
    }
   ],
   "source": [
    "# deque\n",
    "# Stack과 Queue를 지원하는 모듈\n",
    "# List에 비해 효율적인 자료 저장 방식을 지원함\n",
    "from collections import deque\n",
    "\n",
    "deque_list = deque()\n",
    "for i in range(5):\n",
    "    deque_list.append(i)\n",
    "print(deque_list)"
   ]
  },
  {
   "cell_type": "code",
   "execution_count": 46,
   "metadata": {},
   "outputs": [
    {
     "name": "stdout",
     "output_type": "stream",
     "text": [
      "deque([10, 0, 1, 2, 3, 4])\n"
     ]
    }
   ],
   "source": [
    "deque_list.appendleft(10)\n",
    "print(deque_list)"
   ]
  },
  {
   "cell_type": "code",
   "execution_count": 47,
   "metadata": {},
   "outputs": [
    {
     "name": "stdout",
     "output_type": "stream",
     "text": [
      "deque([3, 4, 10, 0, 1, 2])\n"
     ]
    }
   ],
   "source": [
    "# deque\n",
    "# rotate, reverse 등 Linked List의 특성을 지원함\n",
    "# 기존 list 형태의 함수를 모두 지원함\n",
    "deque_list.rotate(2)\n",
    "print(deque_list)"
   ]
  },
  {
   "cell_type": "code",
   "execution_count": 48,
   "metadata": {},
   "outputs": [
    {
     "name": "stdout",
     "output_type": "stream",
     "text": [
      "deque([1, 2, 3, 4, 10, 0])\n"
     ]
    }
   ],
   "source": [
    "deque_list.rotate(2)\n",
    "print(deque_list)"
   ]
  },
  {
   "cell_type": "code",
   "execution_count": 49,
   "metadata": {},
   "outputs": [
    {
     "name": "stdout",
     "output_type": "stream",
     "text": [
      "deque([1, 2, 3, 4, 10, 0, 5, 6, 7])\n"
     ]
    }
   ],
   "source": [
    "deque_list.extend([5,6,7])\n",
    "print(deque_list)"
   ]
  },
  {
   "cell_type": "code",
   "execution_count": 50,
   "metadata": {},
   "outputs": [
    {
     "name": "stdout",
     "output_type": "stream",
     "text": [
      "deque([7, 6, 5, 1, 2, 3, 4, 10, 0, 5, 6, 7])\n"
     ]
    }
   ],
   "source": [
    "deque_list.extendleft([5,6,7])\n",
    "print(deque_list)"
   ]
  },
  {
   "cell_type": "code",
   "execution_count": 51,
   "metadata": {},
   "outputs": [
    {
     "name": "stdout",
     "output_type": "stream",
     "text": [
      "deque([7, 6, 5, 1, 2, 3, 4, 10, 0, 5, 6, 7])\n",
      "deque([7, 6, 5, 0, 10, 4, 3, 2, 1, 5, 6, 7])\n"
     ]
    }
   ],
   "source": [
    "print(deque_list)\n",
    "print(deque(reversed(deque_list)))"
   ]
  },
  {
   "cell_type": "code",
   "execution_count": 52,
   "metadata": {},
   "outputs": [
    {
     "name": "stdout",
     "output_type": "stream",
     "text": [
      "24.3125 seconds\n"
     ]
    }
   ],
   "source": [
    "# deque\n",
    "# deque는 기존 list보다 효율적인 자료구조를 제공\n",
    "# 효율적 메모리 구조로 처리 속도 향상\n",
    "from collections import deque\n",
    "import time\n",
    "\n",
    "start_time = time.process_time()\n",
    "deque_list = deque()\n",
    "# Stack\n",
    "for i in range(10000):\n",
    "    for i in range(10000):\n",
    "        deque_list.append(i)\n",
    "        deque_list.pop()\n",
    "print(time.process_time() - start_time, 'seconds')"
   ]
  },
  {
   "cell_type": "code",
   "execution_count": 53,
   "metadata": {},
   "outputs": [
    {
     "name": "stdout",
     "output_type": "stream",
     "text": [
      "51.25 seconds\n"
     ]
    }
   ],
   "source": [
    "# general list\n",
    "import time\n",
    "\n",
    "start_time = time.process_time()\n",
    "just_list = []\n",
    "for i in range(10000):\n",
    "    for i in range(10000):\n",
    "        just_list.append(i)\n",
    "        just_list.pop()\n",
    "print(time.process_time() - start_time, 'seconds')"
   ]
  },
  {
   "cell_type": "code",
   "execution_count": 54,
   "metadata": {},
   "outputs": [
    {
     "name": "stdout",
     "output_type": "stream",
     "text": [
      "x 100\n",
      "y 200\n",
      "z 300\n",
      "l 500\n"
     ]
    }
   ],
   "source": [
    "# OrderedDict\n",
    "# Dict와 달리, 데이터를 입력한 순서대로 dict를 반환함\n",
    "from collections import OrderedDict\n",
    "\n",
    "d = {}\n",
    "d['x'] = 100\n",
    "d['y'] = 200\n",
    "d['z'] = 300\n",
    "d['l'] = 500\n",
    "\n",
    "for k,v in d.items():\n",
    "    print(k, v)"
   ]
  },
  {
   "cell_type": "code",
   "execution_count": 55,
   "metadata": {},
   "outputs": [
    {
     "name": "stdout",
     "output_type": "stream",
     "text": [
      "x 100\n",
      "y 200\n",
      "z 300\n",
      "l 500\n"
     ]
    }
   ],
   "source": [
    "d = OrderedDict()\n",
    "d['x'] = 100\n",
    "d['y'] = 200\n",
    "d['z'] = 300\n",
    "d['l'] = 500\n",
    "\n",
    "for k,v in d.items():\n",
    "    print(k, v)"
   ]
  },
  {
   "cell_type": "code",
   "execution_count": 56,
   "metadata": {},
   "outputs": [
    {
     "name": "stdout",
     "output_type": "stream",
     "text": [
      "l 500\n",
      "x 100\n",
      "y 200\n",
      "z 300\n"
     ]
    }
   ],
   "source": [
    "# OrderedDict\n",
    "# Dict type의 값을, value 또는 key 값으로 정렬할 때 사용 가능\n",
    "for k, v in OrderedDict(sorted(d.items(), key=lambda t: t[0])).items():\n",
    "    print(k, v)"
   ]
  },
  {
   "cell_type": "code",
   "execution_count": 57,
   "metadata": {},
   "outputs": [
    {
     "name": "stdout",
     "output_type": "stream",
     "text": [
      "x 100\n",
      "y 200\n",
      "z 300\n",
      "l 500\n"
     ]
    }
   ],
   "source": [
    "# OrderedDict\n",
    "# Dict type의 값을, value 또는 key 값으로 정렬할 때 사용 가능\n",
    "for k, v in OrderedDict(sorted(d.items(), key=lambda t: t[1])).items():\n",
    "    print(k, v)"
   ]
  },
  {
   "cell_type": "code",
   "execution_count": 58,
   "metadata": {},
   "outputs": [
    {
     "ename": "KeyError",
     "evalue": "'first'",
     "output_type": "error",
     "traceback": [
      "\u001b[1;31m---------------------------------------------------------------------------\u001b[0m",
      "\u001b[1;31mKeyError\u001b[0m                                  Traceback (most recent call last)",
      "\u001b[1;32m<ipython-input-58-f3ead2a96406>\u001b[0m in \u001b[0;36m<module>\u001b[1;34m\u001b[0m\n\u001b[0;32m      2\u001b[0m \u001b[1;31m# Dict type의 값에 기본 값을 지정, 신규값 생성시 사용하는 방버\u001b[0m\u001b[1;33m\u001b[0m\u001b[1;33m\u001b[0m\u001b[1;33m\u001b[0m\u001b[0m\n\u001b[0;32m      3\u001b[0m \u001b[0md\u001b[0m \u001b[1;33m=\u001b[0m \u001b[0mdict\u001b[0m\u001b[1;33m(\u001b[0m\u001b[1;33m)\u001b[0m\u001b[1;33m\u001b[0m\u001b[1;33m\u001b[0m\u001b[0m\n\u001b[1;32m----> 4\u001b[1;33m \u001b[0mprint\u001b[0m\u001b[1;33m(\u001b[0m\u001b[0md\u001b[0m\u001b[1;33m[\u001b[0m\u001b[1;34m'first'\u001b[0m\u001b[1;33m]\u001b[0m\u001b[1;33m)\u001b[0m\u001b[1;33m\u001b[0m\u001b[1;33m\u001b[0m\u001b[0m\n\u001b[0m",
      "\u001b[1;31mKeyError\u001b[0m: 'first'"
     ]
    }
   ],
   "source": [
    "# defaultdict\n",
    "# Dict type의 값에 기본 값을 지정, 신규값 생성시 사용하는 방버\n",
    "d = dict()\n",
    "print(d['first'])"
   ]
  },
  {
   "cell_type": "code",
   "execution_count": 60,
   "metadata": {},
   "outputs": [
    {
     "name": "stdout",
     "output_type": "stream",
     "text": [
      "0\n"
     ]
    }
   ],
   "source": [
    "from collections import defaultdict\n",
    "d = defaultdict(object) # Default dictionary를 생성\n",
    "d = defaultdict(lambda: 0) # Default 값을 0으로 설정한다\n",
    "print(d['first'])"
   ]
  },
  {
   "cell_type": "code",
   "execution_count": 61,
   "metadata": {},
   "outputs": [
    {
     "name": "stdout",
     "output_type": "stream",
     "text": [
      "  260\n",
      "e 173\n",
      "t 127\n",
      "a 118\n",
      "s 109\n",
      "r 95\n",
      "o 87\n",
      "i 76\n",
      "n 71\n",
      "l 66\n",
      "p 45\n",
      "h 37\n",
      "c 37\n",
      "d 37\n",
      "m 36\n",
      "u 35\n",
      "y 32\n",
      "f 22\n",
      "b 21\n",
      ". 17\n",
      "w 16\n",
      "g 16\n",
      ", 16\n",
      "\n",
      " 12\n",
      "k 11\n",
      "v 11\n",
      "A 6\n",
      "- 6\n",
      "' 6\n",
      "\" 6\n",
      "I 5\n",
      "W 4\n",
      "x 4\n",
      "T 3\n",
      "z 3\n",
      "B 3\n",
      "q 2\n",
      "( 2\n",
      ") 2\n",
      "M 2\n",
      ": 2\n",
      "6 2\n",
      "0 2\n",
      "S 2\n",
      "! 1\n",
      "H 1\n",
      "j 1\n",
      "N 1\n",
      "F 1\n",
      "R 1\n",
      "? 1\n"
     ]
    }
   ],
   "source": [
    "# defaultdict\n",
    "from collections import OrderedDict\n",
    "word_count = defaultdict(object) # Default dictionary를 생성\n",
    "word_count = defaultdict(lambda: 0) # Default 값을 0으로 설정한다\n",
    "\n",
    "text = '''A press release is the quickest and easiest way to get free publicity. If well written, a press release can result in multiple published articles about your firm and its products. And that can mean new prospects contacting you asking you to sell to them. Talk about low-hanging fruit!\n",
    "\n",
    "\n",
    "What's more, press releases are cost effective. If the release results in an article that (for instance) appears to recommend your firm or your product, that article is more likely to drive prospects to contact you than a comparable paid advertisement.\n",
    "\n",
    "However, most press releases never accomplish that. Most press releases are just spray and pray. Nobody reads them, least of all the reporters and editors for whom they're intended. Worst case, a badly-written press release simply makes your firm look clueless and stupid.\n",
    "\n",
    "\n",
    "For example, a while back I received a press release containing the following sentence: \"Release 6.0 doubles the level of functionality available, providing organizations of all sizes with a fast-to-deploy, highly robust, and easy-to-use solution to better acquire, retain, and serve customers.\"\n",
    "\n",
    "Translation: \"The new release does more stuff.\" Why the extra verbiage? As I explained in the post \"Why Marketers Speak Biz Blab\", the BS words are simply a way to try to make something unimportant seem important. And, let's face it, a 6.0 release of a product probably isn't all that important.\n",
    "\n",
    "As a reporter, my immediate response to that press release was that it's not important because it expended an entire sentence saying absolutely nothing. And I assumed (probably rightly) that the company's marketing team was a bunch of idiots.'''\n",
    "for word in text:\n",
    "    word_count[word] += 1\n",
    "for i, v in OrderedDict(sorted(\n",
    "    word_count.items(), key=lambda t: t[1],\n",
    "    reverse=True)).items():\n",
    "    print(i, v)"
   ]
  },
  {
   "cell_type": "code",
   "execution_count": 62,
   "metadata": {},
   "outputs": [
    {
     "name": "stdout",
     "output_type": "stream",
     "text": [
      "Counter({'a': 3, 'l': 2, 'g': 1, 'h': 1, 'd': 1})\n"
     ]
    }
   ],
   "source": [
    "# Counter\n",
    "# Sequence type의 data element들의 갯수를 dict 형태로 반환\n",
    "from collections import Counter\n",
    "\n",
    "c = Counter() # a new, empty counter\n",
    "c = Counter('gallahad') # a new counter from an iterable\n",
    "print(c)"
   ]
  },
  {
   "cell_type": "code",
   "execution_count": 63,
   "metadata": {},
   "outputs": [
    {
     "name": "stdout",
     "output_type": "stream",
     "text": [
      "Counter({'red': 4, 'blue': 2})\n",
      "['red', 'red', 'red', 'red', 'blue', 'blue']\n"
     ]
    }
   ],
   "source": [
    "# Counter\n",
    "# Dict type, keyword parameter 등도 모두 처리 가능\n",
    "c = Counter({'red':4, 'blue':2}) # a new couner from a mapping\n",
    "print(c)\n",
    "print(list(c.elements()))"
   ]
  },
  {
   "cell_type": "code",
   "execution_count": 64,
   "metadata": {},
   "outputs": [
    {
     "name": "stdout",
     "output_type": "stream",
     "text": [
      "Counter({'dogs': 8, 'cats': 4})\n",
      "['cats', 'cats', 'cats', 'cats', 'dogs', 'dogs', 'dogs', 'dogs', 'dogs', 'dogs', 'dogs', 'dogs']\n"
     ]
    }
   ],
   "source": [
    "c = Counter(cats=4, dogs=8) # a new counter from keyword args\n",
    "print(c)\n",
    "print(list(c.elements()))"
   ]
  },
  {
   "cell_type": "code",
   "execution_count": 65,
   "metadata": {},
   "outputs": [
    {
     "name": "stdout",
     "output_type": "stream",
     "text": [
      "33\n"
     ]
    }
   ],
   "source": [
    "# namedtuple\n",
    "# Tuple 형태로 Data 구조체를 저장하는 방법\n",
    "# 저장되는 data의 variable을 사전에 지정해서 저장함\n",
    "\n",
    "from collections import namedtuple\n",
    "Point = namedtuple('Point', ['x', 'y'])\n",
    "p = Point(11, y=22)\n",
    "print(p[0] + p[1])"
   ]
  },
  {
   "cell_type": "code",
   "execution_count": 66,
   "metadata": {},
   "outputs": [
    {
     "name": "stdout",
     "output_type": "stream",
     "text": [
      "11 22\n",
      "33\n",
      "Point(x=11, y=22)\n"
     ]
    }
   ],
   "source": [
    "x, y=p\n",
    "print(x,y)\n",
    "print(p.x + p.y)\n",
    "print(Point(x=11, y=22))"
   ]
  },
  {
   "cell_type": "markdown",
   "metadata": {},
   "source": [
    "# Vector의 계산"
   ]
  },
  {
   "cell_type": "code",
   "execution_count": 67,
   "metadata": {},
   "outputs": [
    {
     "name": "stdout",
     "output_type": "stream",
     "text": [
      "[7, 10]\n"
     ]
    }
   ],
   "source": [
    "# 이런 코드는 쓰면 안됨 파이썬 답지 못하고 안 아름다움\n",
    "u = [2, 2]\n",
    "v = [2, 3]\n",
    "z = [3, 5]\n",
    "result = []\n",
    "for i in range(len(u)):\n",
    "    result.append(u[i] +v[i] +z[i])\n",
    "print(result)"
   ]
  },
  {
   "cell_type": "code",
   "execution_count": 68,
   "metadata": {},
   "outputs": [
    {
     "name": "stdout",
     "output_type": "stream",
     "text": [
      "[7, 10]\n"
     ]
    }
   ],
   "source": [
    "u = [2, 2]\n",
    "v = [2, 3]\n",
    "z = [3, 5]\n",
    "result = [sum(t) for t in zip(u,v,z)]\n",
    "print(result)"
   ]
  },
  {
   "cell_type": "markdown",
   "metadata": {},
   "source": [
    "# Vector의 계산: Scalar-Vector product"
   ]
  },
  {
   "cell_type": "code",
   "execution_count": 69,
   "metadata": {},
   "outputs": [
    {
     "name": "stdout",
     "output_type": "stream",
     "text": [
      "[10, 12, 14]\n"
     ]
    }
   ],
   "source": [
    "u = [1, 2, 3]\n",
    "v = [4, 4, 4]\n",
    "alpha = 2\n",
    "\n",
    "result = [alpha*sum(t) for t in zip(u, v)]\n",
    "print(result)"
   ]
  },
  {
   "cell_type": "markdown",
   "metadata": {},
   "source": [
    "# Matrix representation of python\n",
    "\n",
    "- Matrix 역시 Python으로 표시하는 다양한 방법이 존재"
   ]
  },
  {
   "cell_type": "code",
   "execution_count": 70,
   "metadata": {},
   "outputs": [],
   "source": [
    "matrix_a = [[3,6], [4, 5]] #List로 표현했을 경우\n",
    "matrix_b = [(3,6), (4, 5)] # Tuple로 표현했을 경우\n",
    "matrix_c = {(0, 0):3,\n",
    "           (0,1):6,\n",
    "           (1,0):4,\n",
    "           (1,1):5} # dict로 표현했을 경우"
   ]
  },
  {
   "cell_type": "markdown",
   "metadata": {},
   "source": [
    "- 특히 dict로 표현할 때는 무궁무진한 방법이 있음\n",
    "\n",
    "- 본 수업에서는 기본적으로 two-dimensional list 형태로 표현함"
   ]
  },
  {
   "cell_type": "markdown",
   "metadata": {},
   "source": [
    "# Matrix의 계산: Matrix addition"
   ]
  },
  {
   "cell_type": "code",
   "execution_count": 71,
   "metadata": {},
   "outputs": [
    {
     "name": "stdout",
     "output_type": "stream",
     "text": [
      "[[8, 14], [10, 12]]\n"
     ]
    }
   ],
   "source": [
    "matrix_a = [[3,6], [4,5]]\n",
    "matrix_b = [[5,8], [6,7]]\n",
    "result = [[sum(row) for row in zip(*t)] for t in zip(matrix_a, matrix_b)]\n",
    "\n",
    "print(result)"
   ]
  },
  {
   "cell_type": "markdown",
   "metadata": {},
   "source": [
    "# Matrix의 계산: Scalar-Matrix Product"
   ]
  },
  {
   "cell_type": "code",
   "execution_count": 72,
   "metadata": {},
   "outputs": [
    {
     "name": "stdout",
     "output_type": "stream",
     "text": [
      "[[12, 24], [16, 20]]\n"
     ]
    }
   ],
   "source": [
    "matrix_a = [[3,6], [4,5]]\n",
    "alpha = 4\n",
    "result = [[alpha*element for element in t] for t in matrix_a]\n",
    "\n",
    "print(result)"
   ]
  },
  {
   "cell_type": "markdown",
   "metadata": {},
   "source": [
    "# Matrix의 계산: Matrix Transpose"
   ]
  },
  {
   "cell_type": "code",
   "execution_count": 73,
   "metadata": {},
   "outputs": [
    {
     "name": "stdout",
     "output_type": "stream",
     "text": [
      "[[1, 4], [2, 5], [3, 6]]\n"
     ]
    }
   ],
   "source": [
    "matrix_a = [[1, 2, 3], [4, 5, 6]]\n",
    "result = [[element for element in t] for t in zip(*matrix_a)]\n",
    "\n",
    "print(result)"
   ]
  },
  {
   "cell_type": "markdown",
   "metadata": {},
   "source": [
    "# Matrix의 계산: Matrix Product"
   ]
  },
  {
   "cell_type": "code",
   "execution_count": 77,
   "metadata": {},
   "outputs": [
    {
     "name": "stdout",
     "output_type": "stream",
     "text": [
      "[[5, 8], [5, 6]]\n"
     ]
    }
   ],
   "source": [
    "matrix_a = [[1, 1, 2], [2, 1, 1]]\n",
    "matrix_b = [[1, 1], [2, 1], [1, 3]]\n",
    "result = [[sum(a * b for a,b in zip(row_a, column_b)) \n",
    "           for column_b in zip(*matrix_b)] for row_a in matrix_a]\n",
    "\n",
    "print(result)"
   ]
  },
  {
   "cell_type": "markdown",
   "metadata": {},
   "source": [
    "# Case Study - News Categorization-1"
   ]
  },
  {
   "cell_type": "code",
   "execution_count": 78,
   "metadata": {},
   "outputs": [],
   "source": [
    "import os"
   ]
  },
  {
   "cell_type": "code",
   "execution_count": 85,
   "metadata": {},
   "outputs": [],
   "source": [
    "# 파일 불러오기\n",
    "\n",
    "def get_file_list(dir_name):\n",
    "    return os.listdir(dir_name)"
   ]
  },
  {
   "cell_type": "code",
   "execution_count": 86,
   "metadata": {},
   "outputs": [
    {
     "data": {
      "text/plain": [
       "['1_Dae-Ho Lee walk-off homer gives Mariners 4-2 win over Rangers.txt',\n",
       " '1_Korean First Baseman Dae-Ho Lee Becomes Free Agent, Interested In MLB Deal.txt',\n",
       " '1_Lee Dae-ho Announces MLB Aspirations.txt',\n",
       " '1_Lee Dae-ho to Start Spring Training in Arizona.txt',\n",
       " '1_Lee Dae-ho wins MVP in Japan Series.txt',\n",
       " \"1_Mariners' Lee Dae-ho belts a walk-off homer.txt\",\n",
       " '1_Mariners’ Lee Dae-ho gets 1st two-hit game, double.txt',\n",
       " '1_MLB Team Interested In Dae-Ho Lee.txt',\n",
       " \"1_Seattle Mariners' Newest Signing Dae-Ho Lee Could Become Fan Favorite.txt\",\n",
       " '1_SoftBank Hawks Hope to Renew Contract with Lee Dae-ho.txt',\n",
       " '2_Dodgers left with questions after latest Hyun-Jin Ryu setback.txt',\n",
       " '2_Dodgers left-hander Hyun-Jin Ryu expects to be ready for start of season.txt',\n",
       " '2_Dodgers unsure when Hyun-Jin Ryu will throw another bullpen session.txt',\n",
       " '2_Dodgers will take it slowly with pitcher Hyun-Jin Ryu, whose health could be a key to their season.txt',\n",
       " '2_Hyun-Jin Ryu downplays long break between bullpen sessions.txt',\n",
       " \"2_Hyun-Jin Ryu's timetable starting to become clear.txt\",\n",
       " '2_Los Angeles Dodgers’ Hyun-Jin Ryu Experiencing Shoulder Discomfort.txt',\n",
       " '2_Ryu Hyun-jin appears before fans after 3-month hiatus for rehabilitation.txt',\n",
       " '2_Ryu Hyun-jin Rejoins Dodgers After Surgery.txt',\n",
       " '2_Ryu Hyun-jin suffers injury in groin, further delays return.txt',\n",
       " '3_Cleveland Indians interested in South Korean reliever Seung-hwan Oh.txt',\n",
       " '3_Free agent closer Seung-hwan Oh under investigation for gambling.txt',\n",
       " '3_Korean reliever Seung-hwan Oh has the best nickname for a closer.txt',\n",
       " '3_Lim Chang-yong, Oh Seung-hwan to be suspended from 50% of games even if they return.txt',\n",
       " '3_Oh Seung-hwan Could Lose Contract Over Gambling Scandal.txt',\n",
       " '3_Seung Hwan Oh Arrives Early To Cardinals Spring Training Camp.txt',\n",
       " '3_Seung-hwan Oh off to a great start.txt',\n",
       " '3_SEUNG-HWAN OH SHUTS DOWN TWINS IN FIRST SPRING ACTION.txt',\n",
       " '3_SEUNG-HWAN OH STRIKES OUT THE SIDE.txt',\n",
       " '3_SEUNG-HWAN OH TOSSES CLEAN INNING VERSUS BOSTON.txt',\n",
       " \"4_Byung Ho Park went 1-for-4 with a solo homer in Saturday's 4-1 loss to the Tigers..txt\",\n",
       " '4_BYUNG-HO PARK SETTLING IN TO AMERICAN GAME.txt',\n",
       " \"4_Byung-Ho Park Won't Fix The Minnesota Twins.txt\",\n",
       " \"4_Byung-ho Park's homers are the best thing about the Twins so far.txt\",\n",
       " '4_Minnesota’s Park Byung-ho hits 7th homer of the season.txt',\n",
       " '4_Park Byung-ho hits large homer on ‘Park Byung-ho Day’.txt',\n",
       " '4_Park remains on bench as Twins face Gonzalez and the Nats.txt',\n",
       " \"4_Twins' Park Byung-ho hits first big league triple.txt\",\n",
       " \"4_Twins' slugger Byung Ho Park adapts to high heat.txt\",\n",
       " '4_Twins’ Byung Ho Park Still Getting Accustomed To American Life.txt',\n",
       " '5_ S. Korea look well-positioned to qualify for 2018 World Cup.txt',\n",
       " '5_Augsburg midfielder Koo Ja-cheol scores 3 hat tricks at home game.txt',\n",
       " '5_Augsburg vs Stuttgart Bundesliga Match Preview and Kick-Off Time.txt',\n",
       " '5_Follow the action live as Augsburg welcome the visit of Stuttgart on Saturday.txt',\n",
       " \"5_Injured midfielder likely to miss nat'l team friendlies.txt\",\n",
       " '5_Koo Ja-cheol Nets a Hat Trick for Augsburg.txt',\n",
       " '5_Korean Footballers in Europe Struggle for Match Time.txt',\n",
       " '5_S. Korean MF Koo Ja-cheol suspended for next World Cup qualifier.txt',\n",
       " '5_South Korean Footballer Koo Ja Cheol Returns To Augsburg, Says He Has the ‘Feeling of Coming Home’.txt',\n",
       " \"5_Stielike warns it won't be easy for Euro-stars.txt\",\n",
       " '6_AFC 2018 World Cup Qualifying South Korea vs Lebanon, Preview, Prediction & Predicted Lineup.txt',\n",
       " '6_Borussia Dortmund sign Korea defender Park Joo-ho from Mainz.txt',\n",
       " '6_Borussia Dortmund vs. Wolfsburg Team News, Preview, Live Stream, TV Info.txt',\n",
       " '6_BVB has initially without full-back Joo-Ho Park.txt',\n",
       " '6_International South Korean Joo Ho Park, is committed to Borussia Dortmund on Saturday..txt',\n",
       " '6_Joo-Ho Park poor for Borussia Dortmund in loss at Cologne.txt',\n",
       " \"6_Mkhitaryan, Hummels perfect 10s in Dortmund's win at Gladbach.txt\",\n",
       " \"6_Park Joo-ho delivers top performance in Dortmund's late Europa victory.txt\",\n",
       " '6_Son Heung-min, Park Joo-ho Set to Start for New Clubs.txt',\n",
       " '6_Thomas Tuchel mulls Park Joo-ho dilemma on Borussia Dortmund`s record run.txt',\n",
       " '7_Ki Sung-Yueng back in Swansea City fold as Garry Monk targets victory over benchmark club Everton.txt',\n",
       " '7_Ki Sung-yueng Scores 2nd Goal for Swansea in 4 Months.txt',\n",
       " '7_Ki Sung-yueng Stretchered Off Pitch with Head Injury.txt',\n",
       " '7_Premier League 2015-2016 Swansea City vs Manchester City, Preview, Prediction & Predicted Lineup.txt',\n",
       " '7_Sung-yueng In Team Of The Week.txt',\n",
       " '7_Swansea City midfielder Ki Sung-Yueng demands immediate improvement.txt',\n",
       " '7_Swansea City midfielder Ki Sung-Yueng says confidence will not be dented by Arsenal defeat.txt',\n",
       " '7_Swansea City midfielder Ki Sung-Yueng wary of Arsenal threat.txt',\n",
       " '7_Swansea City midfielder Ki Sung-Yueng will miss Crystal Palace clash.txt',\n",
       " '7_Swansea win the perfect tonic for weary Sunderland.txt',\n",
       " '8_Has Heung Min Son Done Enough to Justify 22m Transfer.txt',\n",
       " '8_Heung min Son Believes Injury Tainted Debut at Tottenham.txt',\n",
       " \"8_Heung Min Son doubles Tottenham's lead over Chelsea.txt\",\n",
       " '8_Heung Min Son gives Tottenham a two-goal advantage vs Chelsea.txt',\n",
       " \"8_Heung Min Son prefers Tottenham's busy fixture list to winter break.txt\",\n",
       " '8_South Korea are waiting to hear if Tottenham will clear Son Heung-min for the Olympics, according to the forward..txt',\n",
       " \"8_South Korea coach has a warning for Tottenham Hotspur's Heung-min Son and fellow internationals, suggests they should consider exits.txt\",\n",
       " '8_Top five matchups in 2018 AFC World Cup final round qualification.txt',\n",
       " '8_Tottenham vs Southampton player ratings Heung-min Son shines but Ryan Mason disappoints.txt',\n",
       " \"8_Who Should Be Tottenham Hotspur's No. 1 Summer Transfer Target.txt\"]"
      ]
     },
     "execution_count": 86,
     "metadata": {},
     "output_type": "execute_result"
    }
   ],
   "source": [
    "get_file_list('news_data')"
   ]
  },
  {
   "cell_type": "code",
   "execution_count": 88,
   "metadata": {},
   "outputs": [
    {
     "name": "stdout",
     "output_type": "stream",
     "text": [
      "['news_data\\\\1_Dae-Ho Lee walk-off homer gives Mariners 4-2 win over Rangers.txt', 'news_data\\\\1_Korean First Baseman Dae-Ho Lee Becomes Free Agent, Interested In MLB Deal.txt', 'news_data\\\\1_Lee Dae-ho Announces MLB Aspirations.txt', 'news_data\\\\1_Lee Dae-ho to Start Spring Training in Arizona.txt', 'news_data\\\\1_Lee Dae-ho wins MVP in Japan Series.txt', \"news_data\\\\1_Mariners' Lee Dae-ho belts a walk-off homer.txt\", 'news_data\\\\1_Mariners’ Lee Dae-ho gets 1st two-hit game, double.txt', 'news_data\\\\1_MLB Team Interested In Dae-Ho Lee.txt', \"news_data\\\\1_Seattle Mariners' Newest Signing Dae-Ho Lee Could Become Fan Favorite.txt\", 'news_data\\\\1_SoftBank Hawks Hope to Renew Contract with Lee Dae-ho.txt', 'news_data\\\\2_Dodgers left with questions after latest Hyun-Jin Ryu setback.txt', 'news_data\\\\2_Dodgers left-hander Hyun-Jin Ryu expects to be ready for start of season.txt', 'news_data\\\\2_Dodgers unsure when Hyun-Jin Ryu will throw another bullpen session.txt', 'news_data\\\\2_Dodgers will take it slowly with pitcher Hyun-Jin Ryu, whose health could be a key to their season.txt', 'news_data\\\\2_Hyun-Jin Ryu downplays long break between bullpen sessions.txt', \"news_data\\\\2_Hyun-Jin Ryu's timetable starting to become clear.txt\", 'news_data\\\\2_Los Angeles Dodgers’ Hyun-Jin Ryu Experiencing Shoulder Discomfort.txt', 'news_data\\\\2_Ryu Hyun-jin appears before fans after 3-month hiatus for rehabilitation.txt', 'news_data\\\\2_Ryu Hyun-jin Rejoins Dodgers After Surgery.txt', 'news_data\\\\2_Ryu Hyun-jin suffers injury in groin, further delays return.txt', 'news_data\\\\3_Cleveland Indians interested in South Korean reliever Seung-hwan Oh.txt', 'news_data\\\\3_Free agent closer Seung-hwan Oh under investigation for gambling.txt', 'news_data\\\\3_Korean reliever Seung-hwan Oh has the best nickname for a closer.txt', 'news_data\\\\3_Lim Chang-yong, Oh Seung-hwan to be suspended from 50% of games even if they return.txt', 'news_data\\\\3_Oh Seung-hwan Could Lose Contract Over Gambling Scandal.txt', 'news_data\\\\3_Seung Hwan Oh Arrives Early To Cardinals Spring Training Camp.txt', 'news_data\\\\3_Seung-hwan Oh off to a great start.txt', 'news_data\\\\3_SEUNG-HWAN OH SHUTS DOWN TWINS IN FIRST SPRING ACTION.txt', 'news_data\\\\3_SEUNG-HWAN OH STRIKES OUT THE SIDE.txt', 'news_data\\\\3_SEUNG-HWAN OH TOSSES CLEAN INNING VERSUS BOSTON.txt', \"news_data\\\\4_Byung Ho Park went 1-for-4 with a solo homer in Saturday's 4-1 loss to the Tigers..txt\", 'news_data\\\\4_BYUNG-HO PARK SETTLING IN TO AMERICAN GAME.txt', \"news_data\\\\4_Byung-Ho Park Won't Fix The Minnesota Twins.txt\", \"news_data\\\\4_Byung-ho Park's homers are the best thing about the Twins so far.txt\", 'news_data\\\\4_Minnesota’s Park Byung-ho hits 7th homer of the season.txt', 'news_data\\\\4_Park Byung-ho hits large homer on ‘Park Byung-ho Day’.txt', 'news_data\\\\4_Park remains on bench as Twins face Gonzalez and the Nats.txt', \"news_data\\\\4_Twins' Park Byung-ho hits first big league triple.txt\", \"news_data\\\\4_Twins' slugger Byung Ho Park adapts to high heat.txt\", 'news_data\\\\4_Twins’ Byung Ho Park Still Getting Accustomed To American Life.txt', 'news_data\\\\5_ S. Korea look well-positioned to qualify for 2018 World Cup.txt', 'news_data\\\\5_Augsburg midfielder Koo Ja-cheol scores 3 hat tricks at home game.txt', 'news_data\\\\5_Augsburg vs Stuttgart Bundesliga Match Preview and Kick-Off Time.txt', 'news_data\\\\5_Follow the action live as Augsburg welcome the visit of Stuttgart on Saturday.txt', \"news_data\\\\5_Injured midfielder likely to miss nat'l team friendlies.txt\", 'news_data\\\\5_Koo Ja-cheol Nets a Hat Trick for Augsburg.txt', 'news_data\\\\5_Korean Footballers in Europe Struggle for Match Time.txt', 'news_data\\\\5_S. Korean MF Koo Ja-cheol suspended for next World Cup qualifier.txt', 'news_data\\\\5_South Korean Footballer Koo Ja Cheol Returns To Augsburg, Says He Has the ‘Feeling of Coming Home’.txt', \"news_data\\\\5_Stielike warns it won't be easy for Euro-stars.txt\", 'news_data\\\\6_AFC 2018 World Cup Qualifying South Korea vs Lebanon, Preview, Prediction & Predicted Lineup.txt', 'news_data\\\\6_Borussia Dortmund sign Korea defender Park Joo-ho from Mainz.txt', 'news_data\\\\6_Borussia Dortmund vs. Wolfsburg Team News, Preview, Live Stream, TV Info.txt', 'news_data\\\\6_BVB has initially without full-back Joo-Ho Park.txt', 'news_data\\\\6_International South Korean Joo Ho Park, is committed to Borussia Dortmund on Saturday..txt', 'news_data\\\\6_Joo-Ho Park poor for Borussia Dortmund in loss at Cologne.txt', \"news_data\\\\6_Mkhitaryan, Hummels perfect 10s in Dortmund's win at Gladbach.txt\", \"news_data\\\\6_Park Joo-ho delivers top performance in Dortmund's late Europa victory.txt\", 'news_data\\\\6_Son Heung-min, Park Joo-ho Set to Start for New Clubs.txt', 'news_data\\\\6_Thomas Tuchel mulls Park Joo-ho dilemma on Borussia Dortmund`s record run.txt', 'news_data\\\\7_Ki Sung-Yueng back in Swansea City fold as Garry Monk targets victory over benchmark club Everton.txt', 'news_data\\\\7_Ki Sung-yueng Scores 2nd Goal for Swansea in 4 Months.txt', 'news_data\\\\7_Ki Sung-yueng Stretchered Off Pitch with Head Injury.txt', 'news_data\\\\7_Premier League 2015-2016 Swansea City vs Manchester City, Preview, Prediction & Predicted Lineup.txt', 'news_data\\\\7_Sung-yueng In Team Of The Week.txt', 'news_data\\\\7_Swansea City midfielder Ki Sung-Yueng demands immediate improvement.txt', 'news_data\\\\7_Swansea City midfielder Ki Sung-Yueng says confidence will not be dented by Arsenal defeat.txt', 'news_data\\\\7_Swansea City midfielder Ki Sung-Yueng wary of Arsenal threat.txt', 'news_data\\\\7_Swansea City midfielder Ki Sung-Yueng will miss Crystal Palace clash.txt', 'news_data\\\\7_Swansea win the perfect tonic for weary Sunderland.txt', 'news_data\\\\8_Has Heung Min Son Done Enough to Justify 22m Transfer.txt', 'news_data\\\\8_Heung min Son Believes Injury Tainted Debut at Tottenham.txt', \"news_data\\\\8_Heung Min Son doubles Tottenham's lead over Chelsea.txt\", 'news_data\\\\8_Heung Min Son gives Tottenham a two-goal advantage vs Chelsea.txt', \"news_data\\\\8_Heung Min Son prefers Tottenham's busy fixture list to winter break.txt\", 'news_data\\\\8_South Korea are waiting to hear if Tottenham will clear Son Heung-min for the Olympics, according to the forward..txt', \"news_data\\\\8_South Korea coach has a warning for Tottenham Hotspur's Heung-min Son and fellow internationals, suggests they should consider exits.txt\", 'news_data\\\\8_Top five matchups in 2018 AFC World Cup final round qualification.txt', 'news_data\\\\8_Tottenham vs Southampton player ratings Heung-min Son shines but Ryan Mason disappoints.txt', \"news_data\\\\8_Who Should Be Tottenham Hotspur's No. 1 Summer Transfer Target.txt\"]\n",
      "80\n"
     ]
    }
   ],
   "source": [
    "dir_name = 'news_data'\n",
    "file_list = get_file_list(dir_name)\n",
    "file_list = [os.path.join(dir_name, file_name) for file_name in file_list]\n",
    "print(file_list)\n",
    "print(len(file_list))"
   ]
  },
  {
   "cell_type": "code",
   "execution_count": 95,
   "metadata": {},
   "outputs": [],
   "source": [
    "# 파일별로 내용읽기\n",
    "\n",
    "def get_conetents(file_list):\n",
    "    y_class = []\n",
    "    X_test = []\n",
    "    class_dict = {\n",
    "        1: '0',\n",
    "        2: '0',\n",
    "        3: '0',\n",
    "        4: '0',\n",
    "        5: '1',\n",
    "        6: '1',\n",
    "        7: '1',\n",
    "        8: '1'\n",
    "    }\n",
    "    for file_name in file_list:\n",
    "        try:\n",
    "            f = open(file_name, 'r', encoding='cp949')\n",
    "            category = int(file_name.split(os.sep)[1].split('_')[0])\n",
    "            y_class.append(class_dict[category])\n",
    "            X_test.append(f.read())\n",
    "            f.close()\n",
    "        except UnicodeDecodeError as e:\n",
    "            print(e)\n",
    "            print(file_name)\n",
    "    return X_test, y_class"
   ]
  },
  {
   "cell_type": "code",
   "execution_count": 96,
   "metadata": {},
   "outputs": [],
   "source": [
    "# Corpus 만들기 + 단어별 index 생성하기\n",
    "\n",
    "def get_cleaned_text(text):\n",
    "    import re\n",
    "    text = re.sub('\\W+','',text.lower())\n",
    "    return text\n",
    "\n",
    "def get_corpus_dict(text):\n",
    "    text = [sentence.split() for sentence in text]\n",
    "    cleand_words = [get_cleaned_text(word) for words in text for word in words]\n",
    "    \n",
    "    from collections import OrderedDict\n",
    "    corpus_dict = OrderedDict()\n",
    "    for i, v in enumerate(set(cleand_words)):\n",
    "        corpus_dict[v] = i\n",
    "    return corpus_dict"
   ]
  },
  {
   "cell_type": "code",
   "execution_count": 97,
   "metadata": {},
   "outputs": [],
   "source": [
    "# 문서별로 Bag of words vector 생성\n",
    "\n",
    "def get_count_vector(text, corpus):\n",
    "    text = [sentence.split() for sentence in text]\n",
    "    word_number_list = [[corpus[get_cleaned_text(word)] for word in words] for words in text]\n",
    "    X_vector = [[0 for _ in range(len(corpus))] for x in range(len(text))]\n",
    "    \n",
    "    for i, text in enumerate(word_number_list):\n",
    "        for word_number in text:\n",
    "            X_vector[i][word_number] += 1\n",
    "    return X_vector"
   ]
  },
  {
   "cell_type": "code",
   "execution_count": 98,
   "metadata": {},
   "outputs": [],
   "source": [
    "# 비교하기\n",
    "\n",
    "import math\n",
    "def get_cosine_similarity(v1, v2):\n",
    "    'compute cosine similarity of v1 to v2: (v1 dot v2)/{||v1||*||v2||}'\n",
    "    sumxx, sumxy, sumyy = 0, 0, 0\n",
    "    for i in range(len(v1)):\n",
    "        x = v1[i]\n",
    "        y = v2[i]\n",
    "        sumxx += x*x\n",
    "        sumyy += y*y\n",
    "        sumxy += x*y\n",
    "    return sumxy/math.sqrt(sumxx*sumyy)"
   ]
  },
  {
   "cell_type": "code",
   "execution_count": 99,
   "metadata": {},
   "outputs": [],
   "source": [
    "# 비교결과 정리하기\n",
    "\n",
    "def get_similarity_score(X_vector, source):\n",
    "    source_vector = X_vector[source]\n",
    "    similarity_list = []\n",
    "    for target_vector in X_vector:\n",
    "        similarity_list.append(\n",
    "        get_cosine_similarity(source_vector, target_vector))\n",
    "    return similarity_list\n",
    "\n",
    "def get_top_n_similarity_news(similarity_socre, n):\n",
    "    import operator\n",
    "    x = {i:v for i, v in enumerate(similarity_socre)}\n",
    "    sorted_x = sorted(x.items(), key=operator.itemgetter(1))\n",
    "    \n",
    "    return list(reversed(sorted_x))[1:n+1]"
   ]
  },
  {
   "cell_type": "code",
   "execution_count": 101,
   "metadata": {},
   "outputs": [],
   "source": [
    "def get_accuracy(similarity_list, y_class, source_news):\n",
    "    source_class = y_class[source_news]\n",
    "    \n",
    "    return sum([source_class == y_class[i[0]] for i in similarity_list]) / len(similarity_list)"
   ]
  },
  {
   "cell_type": "code",
   "execution_count": 102,
   "metadata": {},
   "outputs": [
    {
     "name": "stdout",
     "output_type": "stream",
     "text": [
      "Number of words : 4024\n",
      "0.6950000000000001\n"
     ]
    }
   ],
   "source": [
    "if __name__ == '__main__':\n",
    "    dir_name = 'news_data'\n",
    "    file_list = get_file_list(dir_name)\n",
    "    file_list = [os.path.join(dir_name, file_name) for file_name in file_list]\n",
    "    \n",
    "    X_test, y_class = get_conetents(file_list)\n",
    "    \n",
    "    corpus = get_corpus_dict(X_test)\n",
    "    print('Number of words : {0}'.format(len(corpus)))\n",
    "    X_vector = get_count_vector(X_test, corpus)\n",
    "    source_number = 10\n",
    "    \n",
    "    result = []\n",
    "    \n",
    "    for i in range(80):\n",
    "        source_number = i\n",
    "        \n",
    "        similarity_score = get_similarity_score(X_vector, source_number)\n",
    "        similarity_news = get_top_n_similarity_news(similarity_score, 10)\n",
    "        accuracy_score = get_accuracy(similarity_news, y_class, source_number)\n",
    "        result.append(accuracy_score)\n",
    "    print(sum(result) / 80)"
   ]
  },
  {
   "cell_type": "markdown",
   "metadata": {},
   "source": [
    "# Basic Linear Algebra"
   ]
  },
  {
   "cell_type": "code",
   "execution_count": 105,
   "metadata": {},
   "outputs": [],
   "source": [
    "def vector_size_check(*vector_variables):\n",
    "    return all(len(vector_variables[0]) == x for x in [len(vector) for vector in vector_variables[1:]])"
   ]
  },
  {
   "cell_type": "code",
   "execution_count": 106,
   "metadata": {},
   "outputs": [
    {
     "data": {
      "text/plain": [
       "True"
      ]
     },
     "execution_count": 106,
     "metadata": {},
     "output_type": "execute_result"
    }
   ],
   "source": [
    "vector_size_check([1,2,3], [2,3,4], [5,6,7])"
   ]
  },
  {
   "cell_type": "code",
   "execution_count": 107,
   "metadata": {},
   "outputs": [],
   "source": [
    "def vector_addition(*vector_variables):\n",
    "    if vector_size_check(*vector_variables) == False:\n",
    "        raise ArithmeticError\n",
    "    return [sum(elements) for elements in zip(*vector_variables)]"
   ]
  },
  {
   "cell_type": "code",
   "execution_count": 109,
   "metadata": {},
   "outputs": [
    {
     "name": "stdout",
     "output_type": "stream",
     "text": [
      "[9, 14]\n",
      "[15, 16]\n"
     ]
    },
    {
     "ename": "ArithmeticError",
     "evalue": "",
     "output_type": "error",
     "traceback": [
      "\u001b[1;31m---------------------------------------------------------------------------\u001b[0m",
      "\u001b[1;31mArithmeticError\u001b[0m                           Traceback (most recent call last)",
      "\u001b[1;32m<ipython-input-109-029be10ade76>\u001b[0m in \u001b[0;36m<module>\u001b[1;34m\u001b[0m\n\u001b[0;32m      1\u001b[0m \u001b[0mprint\u001b[0m\u001b[1;33m(\u001b[0m\u001b[0mvector_addition\u001b[0m\u001b[1;33m(\u001b[0m\u001b[1;33m[\u001b[0m\u001b[1;36m1\u001b[0m\u001b[1;33m,\u001b[0m\u001b[1;36m3\u001b[0m\u001b[1;33m]\u001b[0m\u001b[1;33m,\u001b[0m \u001b[1;33m[\u001b[0m\u001b[1;36m2\u001b[0m\u001b[1;33m,\u001b[0m\u001b[1;36m4\u001b[0m\u001b[1;33m]\u001b[0m\u001b[1;33m,\u001b[0m \u001b[1;33m[\u001b[0m\u001b[1;36m6\u001b[0m\u001b[1;33m,\u001b[0m\u001b[1;36m7\u001b[0m\u001b[1;33m]\u001b[0m\u001b[1;33m)\u001b[0m\u001b[1;33m)\u001b[0m\u001b[1;33m\u001b[0m\u001b[1;33m\u001b[0m\u001b[0m\n\u001b[0;32m      2\u001b[0m \u001b[0mprint\u001b[0m\u001b[1;33m(\u001b[0m\u001b[0mvector_addition\u001b[0m\u001b[1;33m(\u001b[0m\u001b[1;33m[\u001b[0m\u001b[1;36m1\u001b[0m\u001b[1;33m,\u001b[0m\u001b[1;36m5\u001b[0m\u001b[1;33m]\u001b[0m\u001b[1;33m,\u001b[0m \u001b[1;33m[\u001b[0m\u001b[1;36m10\u001b[0m\u001b[1;33m,\u001b[0m\u001b[1;36m4\u001b[0m\u001b[1;33m]\u001b[0m\u001b[1;33m,\u001b[0m \u001b[1;33m[\u001b[0m\u001b[1;36m4\u001b[0m\u001b[1;33m,\u001b[0m\u001b[1;36m7\u001b[0m\u001b[1;33m]\u001b[0m\u001b[1;33m)\u001b[0m\u001b[1;33m)\u001b[0m\u001b[1;33m\u001b[0m\u001b[1;33m\u001b[0m\u001b[0m\n\u001b[1;32m----> 3\u001b[1;33m \u001b[0mprint\u001b[0m\u001b[1;33m(\u001b[0m\u001b[0mvector_addition\u001b[0m\u001b[1;33m(\u001b[0m\u001b[1;33m[\u001b[0m\u001b[1;36m1\u001b[0m\u001b[1;33m,\u001b[0m\u001b[1;36m3\u001b[0m\u001b[1;33m,\u001b[0m\u001b[1;36m4\u001b[0m\u001b[1;33m]\u001b[0m\u001b[1;33m,\u001b[0m \u001b[1;33m[\u001b[0m\u001b[1;36m4\u001b[0m\u001b[1;33m]\u001b[0m\u001b[1;33m,\u001b[0m \u001b[1;33m[\u001b[0m\u001b[1;36m6\u001b[0m\u001b[1;33m,\u001b[0m\u001b[1;36m7\u001b[0m\u001b[1;33m]\u001b[0m\u001b[1;33m)\u001b[0m\u001b[1;33m)\u001b[0m \u001b[1;31m# Expected value: ArithmeticError\u001b[0m\u001b[1;33m\u001b[0m\u001b[1;33m\u001b[0m\u001b[0m\n\u001b[0m",
      "\u001b[1;32m<ipython-input-107-f054abeb1109>\u001b[0m in \u001b[0;36mvector_addition\u001b[1;34m(*vector_variables)\u001b[0m\n\u001b[0;32m      1\u001b[0m \u001b[1;32mdef\u001b[0m \u001b[0mvector_addition\u001b[0m\u001b[1;33m(\u001b[0m\u001b[1;33m*\u001b[0m\u001b[0mvector_variables\u001b[0m\u001b[1;33m)\u001b[0m\u001b[1;33m:\u001b[0m\u001b[1;33m\u001b[0m\u001b[1;33m\u001b[0m\u001b[0m\n\u001b[0;32m      2\u001b[0m     \u001b[1;32mif\u001b[0m \u001b[0mvector_size_check\u001b[0m\u001b[1;33m(\u001b[0m\u001b[1;33m*\u001b[0m\u001b[0mvector_variables\u001b[0m\u001b[1;33m)\u001b[0m \u001b[1;33m==\u001b[0m \u001b[1;32mFalse\u001b[0m\u001b[1;33m:\u001b[0m\u001b[1;33m\u001b[0m\u001b[1;33m\u001b[0m\u001b[0m\n\u001b[1;32m----> 3\u001b[1;33m         \u001b[1;32mraise\u001b[0m \u001b[0mArithmeticError\u001b[0m\u001b[1;33m\u001b[0m\u001b[1;33m\u001b[0m\u001b[0m\n\u001b[0m\u001b[0;32m      4\u001b[0m     \u001b[1;32mreturn\u001b[0m \u001b[1;33m[\u001b[0m\u001b[0msum\u001b[0m\u001b[1;33m(\u001b[0m\u001b[0melements\u001b[0m\u001b[1;33m)\u001b[0m \u001b[1;32mfor\u001b[0m \u001b[0melements\u001b[0m \u001b[1;32min\u001b[0m \u001b[0mzip\u001b[0m\u001b[1;33m(\u001b[0m\u001b[1;33m*\u001b[0m\u001b[0mvector_variables\u001b[0m\u001b[1;33m)\u001b[0m\u001b[1;33m]\u001b[0m\u001b[1;33m\u001b[0m\u001b[1;33m\u001b[0m\u001b[0m\n",
      "\u001b[1;31mArithmeticError\u001b[0m: "
     ]
    }
   ],
   "source": [
    "print(vector_addition([1,3], [2,4], [6,7]))\n",
    "print(vector_addition([1,5], [10,4], [4,7]))\n",
    "print(vector_addition([1,3,4], [4], [6,7])) # Expected value: ArithmeticError"
   ]
  },
  {
   "cell_type": "code",
   "execution_count": 111,
   "metadata": {},
   "outputs": [],
   "source": [
    "def vector_subtraction(*vector_variables):\n",
    "    if vector_size_check(*vector_variables) == False:\n",
    "        raise ArithmeticError\n",
    "    return [elements[0]*2 - sum(elements) for elements in zip(*vector_variables)]"
   ]
  },
  {
   "cell_type": "code",
   "execution_count": 112,
   "metadata": {},
   "outputs": [
    {
     "name": "stdout",
     "output_type": "stream",
     "text": [
      "[-1, -1]\n",
      "[-13, -6]\n"
     ]
    }
   ],
   "source": [
    "print(vector_subtraction([1,3],[2,4]))\n",
    "print(vector_subtraction([1,5],[10,4],[4,7]))"
   ]
  },
  {
   "cell_type": "code",
   "execution_count": 113,
   "metadata": {},
   "outputs": [],
   "source": [
    "def scalar_vector_product(alpha, vector_variable):\n",
    "    return [alpha*element for element in vector_variable]"
   ]
  },
  {
   "cell_type": "code",
   "execution_count": 114,
   "metadata": {},
   "outputs": [
    {
     "name": "stdout",
     "output_type": "stream",
     "text": [
      "[5, 10, 15]\n",
      "[6, 6]\n"
     ]
    }
   ],
   "source": [
    "print(scalar_vector_product(5, [1,2,3]))\n",
    "print(scalar_vector_product(3, [2,2]))"
   ]
  },
  {
   "cell_type": "code",
   "execution_count": 116,
   "metadata": {},
   "outputs": [],
   "source": [
    "def matrix_size_check(*matrix_variables):\n",
    "    return all([len(set(len(matrix[0]) for matrix in matrix_variables)) == 1]) and all(len(matrix_variables[0]) == len(matrix) for matrix in matrix_variables)"
   ]
  },
  {
   "cell_type": "code",
   "execution_count": 118,
   "metadata": {},
   "outputs": [],
   "source": [
    "matrix_x = [[2,2],[2,2],[2,2]]\n",
    "matrix_y = [[2,5],[2,1]]\n",
    "matrix_z = [[2,4],[5,3]]\n",
    "matrix_w = [[2,5],[1,1],[2,2]]"
   ]
  },
  {
   "cell_type": "code",
   "execution_count": 119,
   "metadata": {},
   "outputs": [
    {
     "name": "stdout",
     "output_type": "stream",
     "text": [
      "False\n",
      "True\n",
      "True\n"
     ]
    }
   ],
   "source": [
    "print(matrix_size_check(matrix_x, matrix_y, matrix_z)) # Expected value: False\n",
    "print(matrix_size_check(matrix_y, matrix_z)) # Expected value: True\n",
    "print(matrix_size_check(matrix_x, matrix_w)) # Expected value: True"
   ]
  },
  {
   "cell_type": "code",
   "execution_count": 126,
   "metadata": {},
   "outputs": [],
   "source": [
    "def is_matrix_equal(*matrix_variables):\n",
    "    # print([matrix for matrix in zip(*matrix_variables)])\n",
    "    return all([all([len(set(row)) == 1 for row in zip(*matrix)]) for matrix in zip(*matrix_variables)])"
   ]
  },
  {
   "cell_type": "code",
   "execution_count": 127,
   "metadata": {},
   "outputs": [],
   "source": [
    "matrix_x = [[2,2],[2,2]]\n",
    "matrix_y = [[2,5],[2,1]]"
   ]
  },
  {
   "cell_type": "code",
   "execution_count": 128,
   "metadata": {},
   "outputs": [
    {
     "name": "stdout",
     "output_type": "stream",
     "text": [
      "False\n",
      "True\n"
     ]
    }
   ],
   "source": [
    "print(is_matrix_equal(matrix_x, matrix_y, matrix_y, matrix_y)) # Expected value: False\n",
    "print(is_matrix_equal(matrix_x, matrix_x)) # Expected value: True"
   ]
  },
  {
   "cell_type": "code",
   "execution_count": 136,
   "metadata": {},
   "outputs": [],
   "source": [
    "def matrix_addition(*matrix_variables):\n",
    "    return [[sum(row) for row in zip(*matrix)] for matrix in zip(*matrix_variables)]"
   ]
  },
  {
   "cell_type": "code",
   "execution_count": 139,
   "metadata": {},
   "outputs": [],
   "source": [
    "matrix_x = [[2,2],[2,2]]\n",
    "matrix_y = [[2,5],[2,1]]\n",
    "matrix_z = [[2,4],[5,3]]"
   ]
  },
  {
   "cell_type": "code",
   "execution_count": 140,
   "metadata": {},
   "outputs": [
    {
     "name": "stdout",
     "output_type": "stream",
     "text": [
      "[[4, 7], [4, 3]]\n"
     ]
    }
   ],
   "source": [
    "print(matrix_addition(matrix_x, matrix_y)) # Expected value: [[4,7],[4,3]]"
   ]
  },
  {
   "cell_type": "code",
   "execution_count": 141,
   "metadata": {},
   "outputs": [],
   "source": [
    "def matrix_subtraction(*mmatrix_variables):\n",
    "    if matrix_size_check(*matrix_variables) == False:\n",
    "        raise ArithmeticError\n",
    "    return [[row[0]*2 - sum(row) for row in zip(*matrix)] for matrix in zip(*matrix_variables)]"
   ]
  },
  {
   "cell_type": "code",
   "execution_count": 145,
   "metadata": {},
   "outputs": [],
   "source": [
    "def matrix_transpose(matrix_variable):\n",
    "    return [[element for element in row] for row in zip(*matrix_variable)]"
   ]
  },
  {
   "cell_type": "code",
   "execution_count": 146,
   "metadata": {},
   "outputs": [
    {
     "name": "stdout",
     "output_type": "stream",
     "text": [
      "[[2, 1, 2], [5, 1, 2]]\n"
     ]
    }
   ],
   "source": [
    "matrix_w = [[2,5],[1,1],[2,2]]\n",
    "print(matrix_transpose(matrix_w))"
   ]
  },
  {
   "cell_type": "code",
   "execution_count": 143,
   "metadata": {},
   "outputs": [],
   "source": [
    "def scalar_matrix_product(alpha, matrix_variable):\n",
    "    return [scalar_vector_product(alpha, row) for row in matrix_variable]"
   ]
  },
  {
   "cell_type": "code",
   "execution_count": 147,
   "metadata": {},
   "outputs": [],
   "source": [
    "def is_product_availability_matrix(matrix_a, matrix_b):\n",
    "    return len([column_vector for column_vectro in zip(*matrix_a)]) == len(matrix_b)"
   ]
  },
  {
   "cell_type": "code",
   "execution_count": 148,
   "metadata": {},
   "outputs": [],
   "source": [
    "def matrix_product(matrix_a, matrix_b):\n",
    "    return [[sum(a*b for a,b in zip(row_a, column_b)) for column_b in zip(*matrix_b)] for row_a in matrix_a]"
   ]
  },
  {
   "cell_type": "code",
   "execution_count": 149,
   "metadata": {},
   "outputs": [],
   "source": [
    "matrix_x = [[2,5],[1,1]]\n",
    "matrix_y = [[1,1,2],[2,1,1]]\n",
    "matrix_z = [[2,4],[5,3],[1,3]]"
   ]
  },
  {
   "cell_type": "code",
   "execution_count": 151,
   "metadata": {},
   "outputs": [
    {
     "name": "stdout",
     "output_type": "stream",
     "text": [
      "[[9, 13], [10, 14]]\n",
      "[[8, 14], [13, 28], [5, 8]]\n"
     ]
    }
   ],
   "source": [
    "print(matrix_product(matrix_y, matrix_z)) # Expected value: [[9,13],[10,14]]\n",
    "print(matrix_product(matrix_z, matrix_x)) # Expected value: [[8,14], [13,28], [5,8]]"
   ]
  },
  {
   "cell_type": "markdown",
   "metadata": {},
   "source": [
    "# Insert Operation"
   ]
  },
  {
   "cell_type": "code",
   "execution_count": 164,
   "metadata": {},
   "outputs": [],
   "source": [
    "import itertools\n",
    "from functools import reduce\n",
    "import sys\n",
    "import time\n",
    "\n",
    "def insert_operation(length, input_num, input_oper):\n",
    "    ops = {'0': (lambda x,y: x+y),\n",
    "          '1': (lambda x,y: x-y),\n",
    "          '2': (lambda x,y: x*y),\n",
    "          '3': (lambda x,y: int(x//y))}\n",
    "    oper_permutation = []\n",
    "    result = []\n",
    "    list(oper_permutation.extend([str(index)]*value) for index, value in enumerate(input_oper) if value>0)\n",
    "    permutation = [list(x) for x in set(itertools.permutations(oper_permutation))]\n",
    "    for i in permutation:\n",
    "        result.append(reduce(lambda x,y: ops[i.pop()](x,y),input_num))\n",
    "    \n",
    "    print(str(max(result)) + '\\n' + str(min(result)))\n",
    "    \n",
    "# print(list(itertools.permutations('ABCD')))"
   ]
  },
  {
   "cell_type": "code",
   "execution_count": 165,
   "metadata": {},
   "outputs": [
    {
     "name": "stdout",
     "output_type": "stream",
     "text": [
      "48\n",
      "-24\n"
     ]
    }
   ],
   "source": [
    "n = 6\n",
    "numbers = [1,2,3,4,5,6]\n",
    "arithmetics = [2,1,1,1]\n",
    "insert_operation(n, numbers, arithmetics)"
   ]
  },
  {
   "cell_type": "code",
   "execution_count": 163,
   "metadata": {},
   "outputs": [
    {
     "name": "stdout",
     "output_type": "stream",
     "text": [
      "6\n",
      "1 2 3 4 5 6\n",
      "2 1 1 1\n",
      "52.0\n",
      "-21.0\n"
     ]
    }
   ],
   "source": [
    "n = int(input())\n",
    "numbers = list(map(int,input().split(' ')))\n",
    "arithmetics = list(map(int, input().split(' ')))\n",
    "\n",
    "insert_operation(n, numbers, arithmetics)"
   ]
  },
  {
   "cell_type": "code",
   "execution_count": null,
   "metadata": {},
   "outputs": [],
   "source": []
  }
 ],
 "metadata": {
  "kernelspec": {
   "display_name": "Python 3",
   "language": "python",
   "name": "python3"
  },
  "language_info": {
   "codemirror_mode": {
    "name": "ipython",
    "version": 3
   },
   "file_extension": ".py",
   "mimetype": "text/x-python",
   "name": "python",
   "nbconvert_exporter": "python",
   "pygments_lexer": "ipython3",
   "version": "3.8.3"
  }
 },
 "nbformat": 4,
 "nbformat_minor": 4
}
